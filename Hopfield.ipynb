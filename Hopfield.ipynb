{
 "cells": [
  {
   "cell_type": "code",
   "execution_count": 21,
   "id": "fc430321-1d19-4c95-bc20-200134083320",
   "metadata": {},
   "outputs": [],
   "source": [
    "from matplotlib import pyplot as plt\n",
    "import numpy as np\n",
    "import numpy.matlib as matlib\n",
    "from matplotlib.colors import LogNorm\n",
    "import itertools\n",
    "import random\n",
    "import math"
   ]
  },
  {
   "cell_type": "code",
   "execution_count": 22,
   "id": "4df241b4-166d-4b8d-a23d-de64559853e6",
   "metadata": {},
   "outputs": [],
   "source": [
    "def SamplePatterns():\n",
    "    w = []\n",
    "    w.append([-1,-1,-1, 1, 1,-1,-1,-1,\n",
    "              -1,-1, 1, 1, 1,-1,-1,-1,\n",
    "              -1, 1, 1, 1, 1,-1,-1,-1,\n",
    "              -1,-1,-1, 1, 1,-1,-1,-1,\n",
    "              -1,-1,-1, 1, 1,-1,-1,-1,\n",
    "              -1,-1,-1, 1, 1,-1,-1,-1,\n",
    "              -1,-1,-1, 1, 1,-1,-1,-1,\n",
    "              -1,-1,-1, 1, 1,-1,-1,-1,\n",
    "             ])\n",
    "    return np.array(w)"
   ]
  },
  {
   "cell_type": "code",
   "execution_count": 23,
   "id": "08667ba4-ca63-4bc4-829f-43622e22691e",
   "metadata": {},
   "outputs": [
    {
     "data": {
      "image/png": "[encoded data removed]",
      "text/plain": [
       "<Figure size 288x288 with 1 Axes>"
      ]
     },
     "metadata": {
      "needs_background": "light"
     },
     "output_type": "display_data"
    }
   ],
   "source": [
    "sampleShapes = SamplePatterns()\n",
    "\n",
    "for i in range (1):\n",
    "    plt.matshow(np.reshape(sampleShapes[i],(-1,8)),cmap=plt.cm.binary)"
   ]
  },
  {
   "cell_type": "code",
   "execution_count": 29,
   "id": "96879890-a8a0-4f75-a0ca-b28678ee860b",
   "metadata": {},
   "outputs": [],
   "source": [
    "def noise(image):\n",
    "    noisy = image\n",
    "    size = image.shape\n",
    "    mean = 0\n",
    "    sigma = 3\n",
    "    gauss = np.random.normal(mean, sigma , size)\n",
    "    gauss = np.round_(gauss)\n",
    "    for i, num in enumerate (noisy):\n",
    "        if num*-1== gauss[i]:\n",
    "            noisy[i]=gauss[i]\n",
    "    return noisy"
   ]
  },
  {
   "cell_type": "code",
   "execution_count": 30,
   "id": "6807858a-bc13-42f3-bd69-6a1800c2d74b",
   "metadata": {},
   "outputs": [],
   "source": [
    "def hebb_weight(patterns):\n",
    "    row , col = np.shape(patterns)\n",
    "    weight = np.multiply(np.matmul(patterns.T,patterns),(np.ones(col)-np.identity(col)))\n",
    "    return weight"
   ]
  },
  {
   "cell_type": "code",
   "execution_count": 39,
   "id": "5d913d0b-c63b-4fa6-b471-8c95398875ad",
   "metadata": {},
   "outputs": [],
   "source": [
    "def discrete(x):\n",
    "    if x>=0: return 1\n",
    "    else:return -1"
   ]
  },
  {
   "cell_type": "code",
   "execution_count": 40,
   "id": "f7d16adc-8211-4480-be98-3eb24d23479e",
   "metadata": {},
   "outputs": [],
   "source": [
    "def hopfield(noisy,patterns , n_iter):\n",
    "    weight = np.array(hebb_weight(patterns))\n",
    "    col, row = np.shape(weight)\n",
    "    \n",
    "    output = np.zeros(col)\n",
    "    temp = noisy\n",
    "    \n",
    "    for i in range (1, n_iter+1):\n",
    "        plt.matshow(np.reshape(temp,(-1,8)), cmap=plt.cm.binary)\n",
    "        for k in np.random.permutation(col):\n",
    "            if (weight[k,].any()!=0.0):\n",
    "                temp[k] = discrete (np.matmul(weight[k,],temp))\n",
    "        if (temp==output).all():\n",
    "            break\n",
    "        output = temp\n",
    "    return output, i"
   ]
  },
  {
   "cell_type": "code",
   "execution_count": 50,
   "id": "304c4f9a-0712-4837-b59b-0795389d96ff",
   "metadata": {},
   "outputs": [
    {
     "data": {
      "image/png": "[encoded data removed]",
      "text/plain": [
       "<Figure size 288x288 with 1 Axes>"
      ]
     },
     "metadata": {
      "needs_background": "light"
     },
     "output_type": "display_data"
    },
    {
     "data": {
      "image/png": "[encoded data removed]",
      "text/plain": [
       "<Figure size 288x288 with 1 Axes>"
      ]
     },
     "metadata": {
      "needs_background": "light"
     },
     "output_type": "display_data"
    }
   ],
   "source": [
    "toNoise = SamplePatterns()\n",
    "noisy = [noise(wi) for wi in toNoise]\n",
    "tonetwork=SamplePatterns()\n",
    "toNetwork=[noise(wi) for wi in tonetwork]\n",
    "patterns = SamplePatterns()\n",
    "\n",
    "for i in range (1):\n",
    "    output, niter = hopfield(toNetwork[i],patterns , 10)\n",
    "    \n",
    "plt.show()"
   ]
  },
  {
   "cell_type": "code",
   "execution_count": null,
   "id": "c4bf13e6-f2de-44fb-b308-fbb8d143bd3e",
   "metadata": {},
   "outputs": [],
   "source": []
  },
  {
   "cell_type": "code",
   "execution_count": null,
   "id": "6d75fd44-1d69-4b2e-8bbf-2333d07bbc1d",
   "metadata": {},
   "outputs": [],
   "source": []
  }
 ],
 "metadata": {
  "kernelspec": {
   "display_name": "Python 3",
   "language": "python",
   "name": "python3"
  },
  "language_info": {
   "codemirror_mode": {
    "name": "ipython",
    "version": 3
   },
   "file_extension": ".py",
   "mimetype": "text/x-python",
   "name": "python",
   "nbconvert_exporter": "python",
   "pygments_lexer": "ipython3",
   "version": "3.8.8"
  }
 },
 "nbformat": 4,
 "nbformat_minor": 5
}
