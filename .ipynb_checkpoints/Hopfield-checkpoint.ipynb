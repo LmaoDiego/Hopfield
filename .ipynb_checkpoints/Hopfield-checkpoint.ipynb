{
 "cells": [
  {
   "cell_type": "code",
   "execution_count": 44,
   "id": "84b96915",
   "metadata": {
    "scrolled": false
   },
   "outputs": [
    {
     "data": {
      "image/png": "[encoded data removed]",
      "text/plain": [
       "<Figure size 288x288 with 1 Axes>"
      ]
     },
     "metadata": {
      "needs_background": "light"
     },
     "output_type": "display_data"
    },
    {
     "data": {
      "image/png": "[encoded data removed]",
      "text/plain": [
       "<Figure size 288x288 with 1 Axes>"
      ]
     },
     "metadata": {
      "needs_background": "light"
     },
     "output_type": "display_data"
    },
    {
     "name": "stdout",
     "output_type": "stream",
     "text": [
      "[-1 -1 -1  1  1 -1 -1 -1 -1 -1  1  1  1 -1 -1 -1 -1  1  1  1  1 -1 -1 -1\n",
      " -1 -1 -1  1  1 -1 -1 -1 -1 -1 -1  1  1 -1 -1 -1 -1 -1 -1  1  1 -1 -1 -1\n",
      " -1 -1 -1  1  1 -1 -1 -1 -1 -1 -1  1  1 -1 -1 -1]\n"
     ]
    },
    {
     "data": {
      "image/png": "[encoded data removed]",
      "text/plain": [
       "<Figure size 288x288 with 1 Axes>"
      ]
     },
     "metadata": {
      "needs_background": "light"
     },
     "output_type": "display_data"
    },
    {
     "data": {
      "image/png": "[encoded data removed]",
      "text/plain": [
       "<Figure size 288x288 with 1 Axes>"
      ]
     },
     "metadata": {
      "needs_background": "light"
     },
     "output_type": "display_data"
    },
    {
     "name": "stdout",
     "output_type": "stream",
     "text": [
      "[-1 -1 -1  1  1 -1 -1 -1 -1 -1  1  1  1 -1 -1 -1 -1  1  1  1  1 -1 -1 -1\n",
      " -1 -1 -1  1  1 -1 -1 -1 -1 -1 -1  1  1 -1 -1 -1 -1 -1 -1  1  1 -1 -1 -1\n",
      " -1 -1 -1  1  1 -1 -1 -1 -1 -1 -1  1  1 -1 -1 -1]\n"
     ]
    },
    {
     "data": {
      "image/png": "[encoded data removed]",
      "text/plain": [
       "<Figure size 288x288 with 1 Axes>"
      ]
     },
     "metadata": {
      "needs_background": "light"
     },
     "output_type": "display_data"
    },
    {
     "data": {
      "image/png": "[encoded data removed]",
      "text/plain": [
       "<Figure size 288x288 with 1 Axes>"
      ]
     },
     "metadata": {
      "needs_background": "light"
     },
     "output_type": "display_data"
    },
    {
     "name": "stdout",
     "output_type": "stream",
     "text": [
      "[-1 -1 -1  1  1 -1 -1 -1 -1 -1  1  1  1 -1 -1 -1 -1  1  1  1  1 -1 -1 -1\n",
      " -1 -1 -1  1  1 -1 -1 -1 -1 -1 -1  1  1 -1 -1 -1 -1 -1 -1  1  1 -1 -1 -1\n",
      " -1 -1 -1  1  1 -1 -1 -1 -1 -1 -1  1  1 -1 -1 -1]\n"
     ]
    }
   ],
   "source": [
    "from tkinter import *\n",
    "import functools\n",
    "from matplotlib import pyplot as plt\n",
    "import numpy as np\n",
    "import numpy.matlib as matlib\n",
    "from matplotlib.colors import LogNorm\n",
    "import itertools\n",
    "import random\n",
    "import math\n",
    "\n",
    "def SamplePatterns():\n",
    "    w = []\n",
    "    w.append([-1,-1,-1, 1, 1,-1,-1,-1,\n",
    "              -1,-1, 1, 1, 1,-1,-1,-1,\n",
    "              -1, 1, 1, 1, 1,-1,-1,-1,\n",
    "              -1,-1,-1, 1, 1,-1,-1,-1,\n",
    "              -1,-1,-1, 1, 1,-1,-1,-1,\n",
    "              -1,-1,-1, 1, 1,-1,-1,-1,\n",
    "              -1,-1,-1, 1, 1,-1,-1,-1,\n",
    "              -1,-1,-1, 1, 1,-1,-1,-1,\n",
    "             ])\n",
    "    return np.array(w)\n",
    "sampleShapes = SamplePatterns()\n",
    "\n",
    "def hebb_weight(patterns):\n",
    "    row , col = np.shape(patterns)\n",
    "    weight = np.multiply(np.matmul(patterns.T,patterns),(np.ones(col)-np.identity(col)))\n",
    "    return weight\n",
    "def discrete(x):\n",
    "    if x>=0: return 1\n",
    "    else:return -1\n",
    "def hopfield(noisy,patterns , n_iter):\n",
    "    weight = np.array(hebb_weight(patterns))\n",
    "    col, row = np.shape(weight)\n",
    "    \n",
    "    output = np.zeros(col)\n",
    "    temp = noisy\n",
    "    \n",
    "    for i in range (1, n_iter+1):\n",
    "        plt.matshow(np.reshape(temp,(-1,8)), cmap=plt.cm.binary)\n",
    "        for k in np.random.permutation(col):\n",
    "            if (weight[k,].any()!=0.0):\n",
    "                temp[k] = discrete (np.matmul(weight[k,],temp))\n",
    "        if (temp==output).all():\n",
    "            break\n",
    "        output = temp\n",
    "    return output, i\n",
    "\n",
    "class GUI(Frame):\n",
    "    def __init__(self,root):\n",
    "        Frame.__init__(self,root)\n",
    "        self.mtx_input=[]\n",
    "        self.mtx_output=[]\n",
    "        self.mtx_aux=[]\n",
    "        self.setUp()\n",
    "        \n",
    "    def setUp(self):\n",
    "        #Makes the input zone\n",
    "        yPos=1\n",
    "        xPos=1\n",
    "        for pos in range(64):\n",
    "            self.mtx_aux.append(-1)\n",
    "            if(yPos == 9):\n",
    "                xPos = xPos + 1\n",
    "                yPos = 1\n",
    "            if(xPos == 9):\n",
    "                yPos = 2\n",
    "            self.mtx_input.append(Button(root,width=3,text=\"\",command = functools.partial(self.pressed,idx=pos)))\n",
    "            self.mtx_input[pos].grid(row=xPos,column=yPos)\n",
    "            self.mtx_output.append(Button(root,width=3,text=\"\"))\n",
    "            self.mtx_output[pos].grid(row=xPos+10,column=yPos)\n",
    "            yPos=yPos+1\n",
    "        self.btn_submit=Button(root,width=8,text=\"Calcular\",command=self.export)\n",
    "        self.btn_submit.grid(row=10,column=0,columnspan=10)\n",
    "        \n",
    "    def pressed(self,idx):\n",
    "        #print(\"number pressed\",idx)\n",
    "        if(self.mtx_aux[idx]==-1):\n",
    "            self.mtx_aux[idx]=1\n",
    "            self.mtx_input[idx].configure(bg=\"black\")\n",
    "        else:\n",
    "            self.mtx_aux[idx]=-1\n",
    "            self.mtx_input[idx].configure(bg=\"white\")\n",
    "        \n",
    "    def export(self):\n",
    "        output, niter = hopfield(np.array(self.mtx_aux),patterns , 10)\n",
    "        plt.show()\n",
    "        print(output)\n",
    "   \n",
    "root=Tk()\n",
    "root.resizable(False,False)\n",
    "root.geometry(\"300x600\")\n",
    "root.title(\"Predictor de Figuras\")\n",
    "root.columnconfigure(0,weight=1)\n",
    "root.columnconfigure(10,weight=1)\n",
    "root.rowconfigure(0,weight=1)\n",
    "root.rowconfigure(10,weight=1)\n",
    "root.rowconfigure(20,weight=1)\n",
    "app = GUI(root)\n",
    "root.mainloop()"
   ]
  },
  {
   "cell_type": "code",
   "execution_count": null,
   "id": "ef650880",
   "metadata": {},
   "outputs": [],
   "source": []
  }
 ],
 "metadata": {
  "kernelspec": {
   "display_name": "Python 3",
   "language": "python",
   "name": "python3"
  },
  "language_info": {
   "codemirror_mode": {
    "name": "ipython",
    "version": 3
   },
   "file_extension": ".py",
   "mimetype": "text/x-python",
   "name": "python",
   "nbconvert_exporter": "python",
   "pygments_lexer": "ipython3",
   "version": "3.8.8"
  }
 },
 "nbformat": 4,
 "nbformat_minor": 5
}
